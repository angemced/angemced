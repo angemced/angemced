{
  "nbformat": 4,
  "nbformat_minor": 0,
  "metadata": {
    "colab": {
      "provenance": [],
      "authorship_tag": "ABX9TyNLkPZodzZ4Gq8BA2oMczZl",
      "include_colab_link": true
    },
    "kernelspec": {
      "name": "python3",
      "display_name": "Python 3"
    },
    "language_info": {
      "name": "python"
    }
  },
  "cells": [
    {
      "cell_type": "markdown",
      "metadata": {
        "id": "view-in-github",
        "colab_type": "text"
      },
      "source": [
        "<a href=\"https://colab.research.google.com/github/angemced/angemced/blob/main/Visualisation_de_donn%C3%A9es_avec_Python.ipynb\" target=\"_parent\"><img src=\"https://colab.research.google.com/assets/colab-badge.svg\" alt=\"Open In Colab\"/></a>"
      ]
    },
    {
      "cell_type": "markdown",
      "source": [
        "Instructions\n",
        "Chargez le jeu de données dans un bloc de données à l’aide de Python.\n",
        "Nettoyez les données si nécessaire.\n",
        "Tracez un graphique linéaire pour montrer les fluctuations de température moyenne en Tunisie et au Cameroun. Interprétez les résultats.\n",
        "Effectuez un zoom avant pour n’inclure que les données entre 1980 et 2005, essayez de personnaliser les étiquettes des axes.\n",
        "Créer des histogrammes pour montrer la distribution de la température au Sénégal entre [1980,2000] et [2000,2023] (dans la même figure). Décrivez les résultats obtenus.\n",
        "Sélectionnez le meilleur graphique pour afficher la température moyenne par pays.\n",
        "Posez vos propres questions sur le jeu de données et essayez d’y répondre à l’aide des visuels appropriés."
      ],
      "metadata": {
        "id": "CmmhSkURpG9_"
      }
    },
    {
      "cell_type": "code",
      "execution_count": null,
      "metadata": {
        "id": "hoLjtqwBl8zm"
      },
      "outputs": [],
      "source": [
        "#importation des modules\n",
        "import numpy as np\n",
        "import pandas as pd"
      ]
    },
    {
      "cell_type": "code",
      "source": [
        "#ouverture du fichier csv\n",
        "data = pd.read_csv(r'C:\\Users\\bosso\\Documents\\PROJET PYTHON 2\\Africa_climate_change.csv')\n",
        "data\n"
      ],
      "metadata": {
        "id": "hVq5TdbKyVom"
      },
      "execution_count": null,
      "outputs": []
    },
    {
      "cell_type": "code",
      "source": [
        "#information sur la data\n",
        "data.info()"
      ],
      "metadata": {
        "id": "7KwBYmv-yaH-"
      },
      "execution_count": null,
      "outputs": []
    },
    {
      "cell_type": "markdown",
      "source": [],
      "metadata": {
        "id": "Yyi6mPTQpGC0"
      }
    },
    {
      "cell_type": "code",
      "source": [
        "#transformer type date en date-time\n",
        "data['DATE'] = pd.to_datetime(data['DATE'])\n",
        "data['DATE']=data['DATE'].dt.strftime('%d-%m-%Y')"
      ],
      "metadata": {
        "id": "vO45cjD4ycnw"
      },
      "execution_count": null,
      "outputs": []
    },
    {
      "cell_type": "code",
      "source": [
        "#description sur la data\n",
        "data.describe()"
      ],
      "metadata": {
        "id": "RsFNN2rZyg20"
      },
      "execution_count": null,
      "outputs": []
    },
    {
      "cell_type": "code",
      "source": [
        "#nettoyage des données/ Le premier point c'est de trouver le nbre de valeur manquante\n",
        "effectif= data.isna().sum()\n",
        "pourcentage= round(data.isnull().mean()*100, 2)\n",
        "tabs_na= pd.concat([effectif, pourcentage], axis=1)\n",
        "tabs_na.columns=['effectif','pourcentage']\n",
        "tabs_na"
      ],
      "metadata": {
        "id": "O6RgiHf-ykH3"
      },
      "execution_count": null,
      "outputs": []
    },
    {
      "cell_type": "code",
      "source": [
        "data= data.drop(columns=['PRCP'])"
      ],
      "metadata": {
        "id": "LJH0DXW-ynIN"
      },
      "execution_count": null,
      "outputs": []
    },
    {
      "cell_type": "code",
      "source": [
        "#lecture dans un nouveau data\n",
        "nv_data=data\n",
        "# Spécifiez la colonne pour laquelle remplacer les valeurs manquantes\n",
        "valeur_a_remplacer1 = 'TAVG'\n",
        "# Remplacez les valeurs manquantes par la moyenne des deux éléments précédents et des deux éléments suivants\n",
        "nv_data[valeur_a_remplacer1] = nv_data[valeur_a_remplacer1].fillna(\n",
        "    nv_data[valeur_a_remplacer1].rolling(window=5, min_periods=1, center=True).mean()\n",
        ")"
      ],
      "metadata": {
        "id": "EWGD0-_JypTZ"
      },
      "execution_count": null,
      "outputs": []
    },
    {
      "cell_type": "code",
      "source": [
        "# Remplacez les valeurs manquantes par la moyenne de chaque colonne\n",
        "nv_data.fillna(nv_data['TMAX'].mean(), inplace=True)\n"
      ],
      "metadata": {
        "id": "A1BqTi9Tytko"
      },
      "execution_count": null,
      "outputs": []
    },
    {
      "cell_type": "code",
      "source": [
        "effectif= data.isna().sum()\n",
        "pourcentage= round(data.isnull().mean()*100, 2)\n",
        "tabs_na= pd.concat([effectif, pourcentage], axis=1)\n",
        "tabs_na.columns=['effectif','pourcentage']\n",
        "tabs_na"
      ],
      "metadata": {
        "id": "X_cOXvqey5io"
      },
      "execution_count": null,
      "outputs": []
    },
    {
      "cell_type": "code",
      "source": [
        "data.head(12)"
      ],
      "metadata": {
        "id": "YF7Dgz_mzQWC"
      },
      "execution_count": null,
      "outputs": []
    },
    {
      "cell_type": "code",
      "source": [
        "df_tunisia_cameroun = nv_data[nv_data['COUNTRY'].isin(['Tunisia', 'Cameroon'])]\n",
        "df_tunisia_cameroun"
      ],
      "metadata": {
        "id": "-osL_1eizToI"
      },
      "execution_count": null,
      "outputs": []
    },
    {
      "cell_type": "code",
      "source": [
        "#importer le module\n",
        "import plotly.express as px\n",
        "\n",
        "#lecture dans un nouveau data\n",
        "nv_data=data\n",
        "y_camer = nv_data['COUNTRY'] == 'Cameroon'\n",
        "z_tunisia = nv_data['COUNTRY']=='Tunisia'\n",
        "\n",
        "\n",
        "#graphique des fluctuations de température moyenne en tunisie et au cameroun\n",
        "df_tunisia_cameroun = nv_data[nv_data['COUNTRY'].isin(['Tunisia', 'Cameroon'])]\n",
        "\n",
        "\n",
        "fig = px.line(df_tunisia_cameroun, x='DATE', y='TAVG',color='COUNTRY',\n",
        "              labels= {'TAVG': 'Température moyenne (°C)', 'DATE': 'Année'},\n",
        "              title='Fluctuations de température moyenne en Tunisie et au Cameroun')\n",
        "\n",
        "fig.show()"
      ],
      "metadata": {
        "id": "fyPpRFlkzYc2"
      },
      "execution_count": null,
      "outputs": []
    },
    {
      "cell_type": "code",
      "source": [
        "# Filtrer les données pour la Tunisie et le Cameroun et la période spécifiée\n",
        "df_tunisia_cameroun_zoom= nv_data[(nv_data['COUNTRY'].isin(['Tunisia','Cameroon'])) & (nv_data['DATE'].between('1980-01-01', '2005-12-31'))]\n",
        "\n",
        "fig = px.line(df_tunisia_cameroun_zoom, x='DATE', y='TAVG',color='COUNTRY',\n",
        "              labels={'TAVG':'Température moyenne (°C)', 'DATE':'Année'},\n",
        "              title='Fluctuations de température moyenne en Tunisie et au Cameroun (1980-2005)')\n",
        "\n",
        "fig.show()"
      ],
      "metadata": {
        "id": "e8SEaf5dzdou"
      },
      "execution_count": null,
      "outputs": []
    },
    {
      "cell_type": "code",
      "source": [
        "# Filtrer les données pour le Sénégal et les deux périodes spécifiées\n",
        "df_senegal_1980_2000 = nv_data[(nv_data['COUNTRY'] == 'Senegal') & (nv_data['DATE'].between('1980-01-01', '2000-12-31'))]\n",
        "df_senegal_2000_2023 = nv_data[(nv_data['COUNTRY'] == 'Senegal') & (nv_data['DATE'].between('2000-01-01', '2023-12-31'))]\n",
        "\n",
        "# Tracer les histogrammes pour les deux périodes\n",
        "fig = px.histogram(df_senegal_1980_2000, x='TAVG', nbins=10, histnorm='probability density',\n",
        "                   labels={'TAVG': 'Température moyenne (°C)', 'count': 'Probabilité'},\n",
        "                   title='Distribution de la température au Sénégal (1980-2000)')\n",
        "\n",
        "fig.add_trace(px.histogram(df_senegal_2000_2023, x='TAVG', nbins=15, histnorm='probability density').data[0])\n",
        "\n",
        "# Mise en forme de la figure\n",
        "fig.update_layout(barmode='overlay', showlegend=False)\n",
        "\n",
        "# Afficher le graphique\n",
        "fig.show()"
      ],
      "metadata": {
        "id": "CoSvEriTzg-k"
      },
      "execution_count": null,
      "outputs": []
    },
    {
      "cell_type": "code",
      "source": [
        "#meilleur graphique a produire\n",
        "\n",
        "fig_pie = px.pie(nv_data, names='COUNTRY', values='TAVG', title='Répartition de la température moyenne par pays',\n",
        "                 labels={'TAVG': 'Température moyenne (°C)', 'COUNTRY': 'Pays'})\n",
        "fig_pie.show()\n"
      ],
      "metadata": {
        "id": "p8EW5UHrzj4c"
      },
      "execution_count": null,
      "outputs": []
    }
  ]
}