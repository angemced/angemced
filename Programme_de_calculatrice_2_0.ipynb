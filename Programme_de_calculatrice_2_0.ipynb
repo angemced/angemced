{
  "nbformat": 4,
  "nbformat_minor": 0,
  "metadata": {
    "colab": {
      "provenance": [],
      "authorship_tag": "ABX9TyN8Y3LJDVCBunlU4NmHO+2m",
      "include_colab_link": true
    },
    "kernelspec": {
      "name": "python3",
      "display_name": "Python 3"
    },
    "language_info": {
      "name": "python"
    }
  },
  "cells": [
    {
      "cell_type": "markdown",
      "metadata": {
        "id": "view-in-github",
        "colab_type": "text"
      },
      "source": [
        "<a href=\"https://colab.research.google.com/github/angemced/angemced/blob/main/Programme_de_calculatrice_2_0.ipynb\" target=\"_parent\"><img src=\"https://colab.research.google.com/assets/colab-badge.svg\" alt=\"Open In Colab\"/></a>"
      ]
    },
    {
      "cell_type": "code",
      "execution_count": null,
      "metadata": {
        "id": "8PNOQe-oZ8KM"
      },
      "outputs": [],
      "source": [
        "#Création de la classe calculatrice\n",
        "class Calculatrice :\n",
        "    def __init__(self,stock_opération,stock_fonction):\n",
        "        self.stock_opération = stock_opération\n",
        "        self.stock_fonction = stock_fonction\n",
        "#création de la fonction qui va stocler les opérations mathématiques\n",
        "    def __init_subclass__(cls,opérations_math) :\n",
        "        cls.opérations_math = opérations_math\n",
        "# création des fonction correspondantes\n",
        "    def ajouter (x,y):\n",
        "        return(x+y)\n",
        "    def soustraire (x,y):\n",
        "        return(x-y)\n",
        "    def multiplier (x,y):\n",
        "        return (x*y)\n",
        "    def diviser (x,y):\n",
        "        if x>y:\n",
        "            return (x/y)\n",
        "        else:\n",
        "            print('le deuxième nombre doit etre inferieur au premier nombre')\n",
        "# création du dictionnaire opérations mathématiques\n",
        "    opérations_math = {\n",
        "        '+': ajouter,\n",
        "        '-': soustraire,\n",
        "        '*': multiplier,\n",
        "        '/': diviser\n",
        "        }\n"
      ]
    },
    {
      "cell_type": "code",
      "source": [
        "#création de la méthode add_opération prend 2 argumennts\n",
        "def add_opération(symbole_opération,fonction_correspondante):\n",
        "    Calculatrice.opérations_math[symbole_opération]= fonction_correspondante\n"
      ],
      "metadata": {
        "id": "UaxkkFJ8shXc"
      },
      "execution_count": null,
      "outputs": []
    },
    {
      "cell_type": "code",
      "source": [
        "#creation de la méthode calculate avec trois arguments\n",
        "def calculate (self,premier_nombre,symbole_opération ,deuxième_nombre):\n",
        "    self.premier_nombre = premier_nombre\n",
        "    self.symbole_opération = symbole_opération\n",
        "    self.deuxième_nombre = deuxième_nombre\n",
        "#mise en valeur des élements\n",
        "    premier_nombre = float(input('ecrivez le 1er nombre : '))\n",
        "    symbole_opération = input('ecrivez votre symbole dopération : ')\n",
        "    deuxième_nombre = float(input('ecrivez le 2e nombre :'))\n",
        "#choisir la méthode utile dans le dictionnaire\n",
        "    if symbole_opération =='+':\n",
        "        resultat = Calculatrice.ajouter(premier_nombre,deuxième_nombre)\n",
        "    elif symbole_opération =='-':\n",
        "        resultat = Calculatrice.soustraire(premier_nombre, deuxième_nombre)\n",
        "    elif symbole_opération =='*':\n",
        "        resultat = Calculatrice.multiplier(premier_nombre,deuxième_nombre)\n",
        "    elif symbole_opération =='/':\n",
        "        resultat = Calculatrice.diviser(premier_nombre,deuxième_nombre)"
      ],
      "metadata": {
        "id": "vwDI1Z3dslGP"
      },
      "execution_count": null,
      "outputs": []
    },
    {
      "cell_type": "code",
      "source": [
        "#Creer de la fonction exponentiation\n",
        "def exponentiation (x,y):\n",
        "    return pow(x,y)\n",
        "\n",
        "#importation de la librairie math\n",
        "from math import sqrt\n",
        "def racine_carrée (x):\n",
        "    return sqrt(x)\n",
        "#import module logarithme et affectation dans le dictionnaire\n",
        "from math import log\n",
        "def logarithme (x):\n",
        "    return log(x)\n",
        "\n",
        "#utilisez add_operation » pour les ajouter au dictionnaire de la calculatrice\n",
        "exponen=('§',exponentiation)\n",
        "racine=('??',racine_carrée)\n",
        "loga=('£',logarithme)\n"
      ],
      "metadata": {
        "id": "p9shIeN5soch"
      },
      "execution_count": null,
      "outputs": []
    },
    {
      "cell_type": "code",
      "source": [
        "# Créez une instance de la classe Calculator\n",
        "calculator = Calculatrice\n",
        "\n",
        "while True:\n",
        "    # Affichez un menu pour l'utilisateur\n",
        "    print(\"Options:\")\n",
        "    print(\"1. Addition\")\n",
        "    print(\"2. Soustraction\")\n",
        "    print(\"3. Multiplication\")\n",
        "    print(\"4. Division\")\n",
        "    print(\"5. Exponentiation\")\n",
        "    print(\"6. Racine Carré\")\n",
        "    print(\"7. Logarithme\")\n",
        "    print(\"8. Quitter\")\n",
        "\n",
        "    # Demandez à l'utilisateur de choisir une option\n",
        "    choix = input(\"Choisissez une option (1/2/3/4/5/6/7/8): \")\n",
        "\n",
        "    # Vérifiez le choix de l'utilisateur\n",
        "    if choix == '8':\n",
        "        print('BONNE SOIREE')\n",
        "        # L'utilisateur a choisi de quitter\n",
        "        break\n",
        "    elif choix in ('1', '2', '3', '4'):\n",
        "        # L'utilisateur a choisi une opération\n",
        "        num1 = float(input(\"Entrez le premier nombre : \"))\n",
        "        num2 = float(input(\"Entrez le deuxième nombre : \"))\n",
        "\n",
        "        if choix == '1':\n",
        "            resultat = calculator.add(num1, num2)\n",
        "            print(\"Résultat de l'addition : \", resultat)\n",
        "        elif choix == '2':\n",
        "            resultat = calculator.subtract(num1, num2)\n",
        "            print(\"Résultat de la soustraction : \", resultat)\n",
        "        elif choix == '3':\n",
        "            resultat = calculator.multiply(num1, num2)\n",
        "            print(\"Résultat de la multiplication : \", resultat)\n",
        "        elif choix == '4':\n",
        "            resultat = calculator.divide(num1, num2)\n",
        "            print(\"Résultat de la division : \", resultat)\n",
        "        elif choix =='5':\n",
        "            resultat = exponentiation(num1, num2)\n",
        "            print(\"Résultat de la division : \", resultat)\n",
        "\n",
        "    elif choix in ('6', '7'):\n",
        "        num3 = float(input(\"Entrez le premier nombre : \"))\n",
        "        if choix == '6':\n",
        "            resultat = racine_carrée(num3)\n",
        "            print(\"Résultat de la division : \", resultat)\n",
        "        elif choix =='7' :\n",
        "            resultat=logarithme(num3)\n",
        "            print(\"Résultat de la division : \", resultat)\n",
        "    else:\n",
        "        print('AUCUN CALCUL POSSIBLE ')\n",
        "# Sortie de la boucle et fin du programme lorsque l'utilisateur choisit de quitter.\n",
        "\n",
        "\n",
        "\n",
        "\n"
      ],
      "metadata": {
        "id": "iyzmf-nlsri5"
      },
      "execution_count": null,
      "outputs": []
    }
  ]
}