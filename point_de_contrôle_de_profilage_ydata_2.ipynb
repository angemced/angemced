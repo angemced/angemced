{
  "nbformat": 4,
  "nbformat_minor": 0,
  "metadata": {
    "colab": {
      "provenance": [],
      "authorship_tag": "ABX9TyOsK2KTOYMhp7DSZxnC9k2Z",
      "include_colab_link": true
    },
    "kernelspec": {
      "name": "python3",
      "display_name": "Python 3"
    },
    "language_info": {
      "name": "python"
    }
  },
  "cells": [
    {
      "cell_type": "markdown",
      "metadata": {
        "id": "view-in-github",
        "colab_type": "text"
      },
      "source": [
        "<a href=\"https://colab.research.google.com/github/angemced/angemced/blob/main/point_de_contr%C3%B4le_de_profilage_ydata_2.ipynb\" target=\"_parent\"><img src=\"https://colab.research.google.com/assets/colab-badge.svg\" alt=\"Open In Colab\"/></a>"
      ]
    },
    {
      "cell_type": "code",
      "execution_count": null,
      "metadata": {
        "id": "m_GRu-WtlmJO"
      },
      "outputs": [],
      "source": [
        "#MODULE DE CODAGE\n",
        "import pandas as pd\n",
        "import numpy as np\n",
        "from ydata_profiling import ProfileReport"
      ]
    },
    {
      "cell_type": "code",
      "source": [
        "#1 - Charger le jeu de données fourni dans une trame de données pandas\n",
        "data_tunisair = pd.read_csv(r'C:\\Users\\bosso\\Documents\\python projet\\Tunisair_flights_dataset.csv',delimiter =',')\n",
        "data_tunisair.head(12)\n",
        "data_tunisair.info()"
      ],
      "metadata": {
        "id": "hQVvoYTl6iZj"
      },
      "execution_count": null,
      "outputs": []
    },
    {
      "cell_type": "code",
      "source": [
        "# Recherchez les valeurs manquantes dans le jeu de données. Vous pouvez utiliser la méthode isnull() pour identifier les valeurs manquantes\n",
        "miss_value=data_tunisair.isnull().sum()\n",
        "miss_value"
      ],
      "metadata": {
        "id": "am1sAGpC6oSF"
      },
      "execution_count": null,
      "outputs": []
    },
    {
      "cell_type": "code",
      "source": [
        "# Utilisez pandas pour calculer des statistiques récapitulatives pour le jeu de données.\n",
        "#Par exemple, vous pouvez utiliser la méthode describe()\n",
        "#pour obtenir des statistiques récapitulatives pour les colonnes numériques du jeu de données.\n",
        "\n",
        "data_tunisair.describe()"
      ],
      "metadata": {
        "id": "Sb_5Q8KD6rxv"
      },
      "execution_count": null,
      "outputs": []
    },
    {
      "cell_type": "markdown",
      "source": [
        "Partie 2 : Exploration des données avec ydata-Profiling"
      ],
      "metadata": {
        "id": "kkAlkIPJ687E"
      }
    },
    {
      "cell_type": "code",
      "source": [
        "#Utilisez ydata-profiling pour générer un rapport sur le jeu de données fourni.\n",
        "Profile = ProfileReport(data_tunisair,title='DONNE AVIATION TUNIS-AIR')\n",
        "Profile"
      ],
      "metadata": {
        "id": "L4uOPfvj65Q3"
      },
      "execution_count": null,
      "outputs": []
    },
    {
      "cell_type": "code",
      "source": [
        "#conversion du fichier en html\n",
        "Profile.to_file('Profile.html')"
      ],
      "metadata": {
        "id": "0xMyFDt97AgO"
      },
      "execution_count": null,
      "outputs": []
    }
  ]
}