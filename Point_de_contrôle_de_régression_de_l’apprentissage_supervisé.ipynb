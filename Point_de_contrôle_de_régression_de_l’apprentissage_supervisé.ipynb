{
  "nbformat": 4,
  "nbformat_minor": 0,
  "metadata": {
    "colab": {
      "provenance": [],
      "authorship_tag": "ABX9TyN+9OQnem6GwulEUS2/JmtG",
      "include_colab_link": true
    },
    "kernelspec": {
      "name": "python3",
      "display_name": "Python 3"
    },
    "language_info": {
      "name": "python"
    }
  },
  "cells": [
    {
      "cell_type": "markdown",
      "metadata": {
        "id": "view-in-github",
        "colab_type": "text"
      },
      "source": [
        "<a href=\"https://colab.research.google.com/github/angemced/angemced/blob/main/Point_de_contr%C3%B4le_de_r%C3%A9gression_de_l%E2%80%99apprentissage_supervis%C3%A9.ipynb\" target=\"_parent\"><img src=\"https://colab.research.google.com/assets/colab-badge.svg\" alt=\"Open In Colab\"/></a>"
      ]
    },
    {
      "cell_type": "code",
      "execution_count": null,
      "metadata": {
        "id": "etjUDB2epuvG"
      },
      "outputs": [],
      "source": [
        "#importation des modules\n",
        "import pandas as pd\n",
        "import numpy as np\n",
        "import plotly.express as px\n",
        "import matplotlib.pyplot as plt\n",
        "from ydata_profiling import ProfileReport\n",
        "import seaborn as sns\n",
        "import sklearn as sk"
      ]
    },
    {
      "cell_type": "code",
      "source": [
        "df = pd.read_csv(r'C:\\Users\\bosso\\Documents\\PROJET PYTHON 2\\5G_energy_consumption_dataset.csv', delimiter=',')\n",
        "\n",
        "#transformer type date en date-time\n",
        "df['Time'] = pd.to_datetime(df['Time'])\n",
        "df['Time ']=df['Time'].dt.strftime('%d'-'%m'-'%Y')"
      ],
      "metadata": {
        "id": "nvSGGsy_UR_9"
      },
      "execution_count": null,
      "outputs": []
    },
    {
      "cell_type": "code",
      "source": [
        "df.info()\n",
        "\n",
        "#description des valeurs présentes\n",
        "label = ['BS','Energy','load','ESMODE','TXpower']\n",
        "select_data=df[label]\n",
        "description=select_data.describe()\n",
        "description\n",
        "\n",
        "#type de variable\n",
        "df.dtypes"
      ],
      "metadata": {
        "id": "uJ-cjHXjUT_g"
      },
      "execution_count": null,
      "outputs": []
    },
    {
      "cell_type": "code",
      "source": [
        "#Utilisation du rapport de profilage pandas\n",
        "profile = ProfileReport(df, title = 'Consommation de l_energie 5G')\n",
        "profile"
      ],
      "metadata": {
        "id": "eSGoH0o5UiqN"
      },
      "execution_count": null,
      "outputs": []
    },
    {
      "cell_type": "code",
      "source": [
        "#gestion des valeurs manquantes\n",
        "sns.heatmap(df.isna())\n",
        "plt.show()"
      ],
      "metadata": {
        "id": "3YsLI_NSUlDP"
      },
      "execution_count": null,
      "outputs": []
    },
    {
      "cell_type": "code",
      "source": [
        "#creation heatmap de correlation\n",
        "import plotly.figure_factory as ff\n",
        "correlation =df[['Energy',\"load\", 'ESMODE','TXpower']].corr()\n",
        "heatmap = ff.create_annotated_heatmap(z=correlation.values,\n",
        "                                      x= list(correlation.columns),\n",
        "                                      y= list(correlation.index),\n",
        "                                      annotation_text= correlation.round(2).values,\n",
        "                                      showscale= True)\n",
        "\n",
        "heatmap.show()"
      ],
      "metadata": {
        "id": "p4FZOMAjUn1J"
      },
      "execution_count": null,
      "outputs": []
    },
    {
      "cell_type": "code",
      "source": [
        "#Encoder des caractéristiques catégorielles\n",
        "from sklearn.preprocessing import LabelEncoder\n",
        "encoder=LabelEncoder()\n",
        "df1= df\n",
        "\n",
        "df1['BS']=encoder.fit_transform(df1['BS'])\n",
        "df1.dtypes\n"
      ],
      "metadata": {
        "id": "EFY4xppPUrSJ"
      },
      "execution_count": null,
      "outputs": []
    },
    {
      "cell_type": "markdown",
      "source": [
        "#Sélectionnez votre variable cible et les fonctionnalités\n",
        "#MES VARIABLES CIBLES SONT ENERGY TX POWER ET LOAD\n",
        "\n",
        "#Sélectionnez votre variable cible et les fonctionnalités  PLUS L'ENERGY AUGMENTE PLUS LE LOAD EST IMPACTE DE 64%\n",
        "\n"
      ],
      "metadata": {
        "id": "M_JLE6CVUxcn"
      }
    },
    {
      "cell_type": "code",
      "source": [
        "\n",
        "#En fonction de votre phase d’exploration des données, sélectionnez un algorithme de régression ML et entraînez-le sur l’ensemble d’apprentissage\n",
        "\n",
        "from sklearn.model_selection import train_test_split\n",
        "\n",
        "#Fractionnement des données : Entraîner/\n",
        "\n",
        "#Diviser votre jeu de données en ensembles d’entraînement et de test\n",
        "\n",
        "x=df[['TXpower','load']]\n",
        "y=df['Energy']\n",
        "\n",
        "x_train, x_test, y_train, y_test = train_test_split(x,y,test_size=0.20, random_state= 30)"
      ],
      "metadata": {
        "id": "5XR3-LEgUuBb"
      },
      "execution_count": null,
      "outputs": []
    },
    {
      "cell_type": "code",
      "source": [
        "#nuage de point pour comprendre l'algorithme de regression\n",
        "import plotly.graph_objs as go\n",
        "import plotly.offline as pyo\n",
        "\n",
        "\n",
        "\n",
        "\n",
        "trace = go.Scatter(\n",
        "    x=df[['TXpower','load']],\n",
        "    y=df['Energy'],\n",
        "    mode='markers',\n",
        "    marker=dict(color=df['ESMODE']))\n",
        "\n",
        "data=[trace]\n",
        "\n",
        "layout=go.Layout(title='ENERGY EN FONCTION DE TXPOWER LOAD',\n",
        "                 xaxis=dict(title='Energy'),\n",
        "                 yaxis=dict(title='TXpower et load'))\n",
        "\n",
        "\n",
        "fig = go.Figure(data=data, layout=layout)\n",
        "\n",
        "pyo.plot(fig)"
      ],
      "metadata": {
        "id": "r5KYyl1AU10w"
      },
      "execution_count": null,
      "outputs": []
    },
    {
      "cell_type": "code",
      "source": [
        "#nuage de point pour comprendre l'algorithme de regression\n",
        "#nuage de point de l'energie en fonction de la TXpower\n",
        "import plotly.graph_objs as go\n",
        "import plotly.offline as pyo\n",
        "\n",
        "trace = go.Scatter(\n",
        "    x=df['Energy'],\n",
        "    y=df['TXpower'],\n",
        "    mode='markers')\n",
        "\n",
        "data=[trace]\n",
        "\n",
        "layout=go.Layout(title='ENERGY EN FONCTION DE TXPOWER LOAD',\n",
        "                 xaxis=dict(title='Energy'),\n",
        "                 yaxis=dict(title='TXpower'))\n",
        "\n",
        "\n",
        "fig_Energy_Txpower = go.Figure(data=data, layout=layout)\n",
        "\n",
        "pyo.plot(fig_Energy_Txpower)"
      ],
      "metadata": {
        "id": "xKgjikeUU4mr"
      },
      "execution_count": null,
      "outputs": []
    },
    {
      "cell_type": "code",
      "source": [
        "#nuage de point pour comprendre l'algorithme de regression\n",
        "#nuage de point de TXpower en fonction de la load\n",
        "\n",
        "import plotly.graph_objs as go\n",
        "import plotly.offline as pyo\n",
        "\n",
        "trace = go.Scatter(\n",
        "    x=df['TXpower'],\n",
        "    y=df['load'],\n",
        "    mode='markers',\n",
        "    marker=dict(color=df['ESMODE'], colorscale='Viridis', size=10),\n",
        ")\n",
        "\n",
        "data = [trace]\n",
        "\n",
        "layout = go.Layout(\n",
        "    title='ENERGY EN FONCTION DE TXPOWER ET LOAD',\n",
        "    xaxis=dict(title='TXpower'),\n",
        "    yaxis=dict(title='load'),\n",
        ")\n",
        "\n",
        "fig = go.Figure(data=data, layout=layout)\n",
        "\n",
        "pyo.plot(fig)\n",
        "\n",
        "\n",
        "# Le schema nous montre une courbe"
      ],
      "metadata": {
        "id": "-yb9YlbKU65w"
      },
      "execution_count": null,
      "outputs": []
    },
    {
      "cell_type": "code",
      "source": [
        "#nuage de point pour comprendre l'algorithme de regression\n",
        "#nuage de point de l'energie en fonction de la load\n",
        "import plotly.graph_objs as go\n",
        "import plotly.offline as pyo\n",
        "\n",
        "trace = go.Scatter(\n",
        "    x=df['Energy'],\n",
        "    y=df['load'],\n",
        "    mode='markers')\n",
        "\n",
        "data=[trace]\n",
        "\n",
        "layout=go.Layout(title='ENERGY EN FONCTION DE TXPOWER LOAD',\n",
        "                 xaxis=dict(title='Energy'),\n",
        "                 yaxis=dict(title='load'))\n",
        "\n",
        "\n",
        "fig_Energy_load = go.Figure(data=data, layout=layout)\n",
        "\n",
        "pyo.plot(fig_Energy_load)\n",
        "\n"
      ],
      "metadata": {
        "id": "nDjEXj9TU9Y_"
      },
      "execution_count": null,
      "outputs": []
    },
    {
      "cell_type": "code",
      "source": [
        "from sklearn.linear_model import LinearRegression\n",
        "from sklearn.metrics import mean_squared_error\n",
        "from sklearn import metrics\n",
        "\n",
        "#extractation de x et y\n",
        "x=df[\"Energy\"].values[:,np.newaxis]\n",
        "y=df[\"load\"].values\n",
        "\n",
        "x_train,x_test,y_train,y_test=train_test_split(x,y,test_size=0.35,random_state=40)\n",
        "\n",
        "#model lineaire de regression\n",
        "model=LinearRegression()\n",
        "\n",
        "#adaptation de modele de regression\n",
        "model.fit(x_train,y_train)\n",
        "\n",
        "#test de notre modele de regression\n",
        "predicted=model.predict(x_test)\n",
        "\n",
        "print(\"MSE\", mean_squared_error(y_test,predicted))\n",
        "print(\"R squared\", metrics.r2_score(y_test,predicted))\n",
        "\n",
        "#Trace du modele de regression\n",
        "\n",
        "plt.scatter(x,y,color=\"r\")\n",
        "plt.title(\"Linear Regression\")\n",
        "plt.ylabel(\"Energy\")\n",
        "plt.xlabel(\"load\")\n",
        "plt.plot(x,model.predict(x),color=\"k\")\n",
        "plt.show()\n",
        "\n"
      ],
      "metadata": {
        "id": "ygxEvKE8U_5L"
      },
      "execution_count": null,
      "outputs": []
    }
  ]
}